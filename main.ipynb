{
 "cells": [
  {
   "cell_type": "markdown",
   "metadata": {},
   "source": [
    "# MayImmo POI\n",
    "The goal of this notebook project is to gather all POI (Points of Interest) near a location in Mayotte\n",
    "[Source](https://github.com/vaclavdekanovsky/data-analysis-in-examples/blob/master/Maps/Driving%20Distance/Driving%20Distance%20between%20two%20places.ipynb)"
   ]
  },
  {
   "cell_type": "code",
   "execution_count": 20,
   "metadata": {},
   "outputs": [
    {
     "name": "stderr",
     "output_type": "stream",
     "text": [
      "/home/eddine/Documents/project/Real Estate MLS/openstreetmap/venv/lib/python3.8/site-packages/pyproj/crs/crs.py:131: FutureWarning: '+init=<authority>:<code>' syntax is deprecated. '<authority>:<code>' is the preferred initialization method. When making the change, be mindful of axis order changes: https://pyproj4.github.io/pyproj/stable/gotchas.html#axis-order-changes-in-proj-6\n",
      "  in_crs_string = _prepare_from_proj_string(in_crs_string)\n"
     ]
    }
   ],
   "source": [
    "from geopandas.geodataframe import GeoDataFrame\n",
    "import osmnx as ox\n",
    "from osmnx.distance import euclidean_dist_vec\n",
    "from pprint import pprint\n",
    "import overpass\n",
    "import geojson\n",
    "import geopandas as gpd\n",
    "from query import query\n",
    "from pyproj import Proj\n",
    "from geopy import distance\n",
    "\n",
    "ox.config(use_cache=True, log_console=False)\n",
    "api = overpass.API()\n",
    "\n",
    "# step 1 : extract raw data from the dowloaded json\n",
    "with open(\"./mayotte.json\", mode=\"r\") as f:\n",
    "    data_load = geojson.load(f)[\"elements\"]\n",
    "\n",
    "gdf = gpd.GeoDataFrame(data_load)\n",
    "gdf.crs = {\"init\": \"epsg:4326\"}"
   ]
  },
  {
   "cell_type": "code",
   "execution_count": 21,
   "metadata": {},
   "outputs": [
    {
     "data": {
      "text/html": [
       "<div>\n",
       "<style scoped>\n",
       "    .dataframe tbody tr th:only-of-type {\n",
       "        vertical-align: middle;\n",
       "    }\n",
       "\n",
       "    .dataframe tbody tr th {\n",
       "        vertical-align: top;\n",
       "    }\n",
       "\n",
       "    .dataframe thead th {\n",
       "        text-align: right;\n",
       "    }\n",
       "</style>\n",
       "<table border=\"1\" class=\"dataframe\">\n",
       "  <thead>\n",
       "    <tr style=\"text-align: right;\">\n",
       "      <th></th>\n",
       "      <th>type</th>\n",
       "      <th>id</th>\n",
       "      <th>lat</th>\n",
       "      <th>lon</th>\n",
       "      <th>tags</th>\n",
       "      <th>bounds</th>\n",
       "      <th>nodes</th>\n",
       "      <th>geometry</th>\n",
       "      <th>members</th>\n",
       "    </tr>\n",
       "  </thead>\n",
       "  <tbody>\n",
       "    <tr>\n",
       "      <th>0</th>\n",
       "      <td>node</td>\n",
       "      <td>100948360</td>\n",
       "      <td>-12.776235</td>\n",
       "      <td>45.233917</td>\n",
       "      <td>{'leisure': 'slipway'}</td>\n",
       "      <td>NaN</td>\n",
       "      <td>NaN</td>\n",
       "      <td>POINT (5035416.618 -1434179.077)</td>\n",
       "      <td>NaN</td>\n",
       "    </tr>\n",
       "    <tr>\n",
       "      <th>1</th>\n",
       "      <td>node</td>\n",
       "      <td>364411600</td>\n",
       "      <td>-12.778358</td>\n",
       "      <td>45.232845</td>\n",
       "      <td>{'amenity': 'ferry_terminal', 'ferry': 'yes', ...</td>\n",
       "      <td>NaN</td>\n",
       "      <td>NaN</td>\n",
       "      <td>POINT (5035297.261 -1434421.489)</td>\n",
       "      <td>NaN</td>\n",
       "    </tr>\n",
       "  </tbody>\n",
       "</table>\n",
       "</div>"
      ],
      "text/plain": [
       "   type         id        lat        lon  \\\n",
       "0  node  100948360 -12.776235  45.233917   \n",
       "1  node  364411600 -12.778358  45.232845   \n",
       "\n",
       "                                                tags bounds nodes  \\\n",
       "0                             {'leisure': 'slipway'}    NaN   NaN   \n",
       "1  {'amenity': 'ferry_terminal', 'ferry': 'yes', ...    NaN   NaN   \n",
       "\n",
       "                           geometry members  \n",
       "0  POINT (5035416.618 -1434179.077)     NaN  \n",
       "1  POINT (5035297.261 -1434421.489)     NaN  "
      ]
     },
     "execution_count": 21,
     "metadata": {},
     "output_type": "execute_result"
    }
   ],
   "source": [
    "gdf[\"geometry\"] = gpd.points_from_xy(gdf[\"lon\"], gdf[\"lat\"])\n",
    "gdf = gdf.to_crs(\"EPSG:3857\")\n",
    "gdf.head(2)"
   ]
  },
  {
   "cell_type": "code",
   "execution_count": 22,
   "metadata": {},
   "outputs": [
    {
     "data": {
      "text/html": [
       "<div>\n",
       "<style scoped>\n",
       "    .dataframe tbody tr th:only-of-type {\n",
       "        vertical-align: middle;\n",
       "    }\n",
       "\n",
       "    .dataframe tbody tr th {\n",
       "        vertical-align: top;\n",
       "    }\n",
       "\n",
       "    .dataframe thead th {\n",
       "        text-align: right;\n",
       "    }\n",
       "</style>\n",
       "<table border=\"1\" class=\"dataframe\">\n",
       "  <thead>\n",
       "    <tr style=\"text-align: right;\">\n",
       "      <th></th>\n",
       "      <th>type</th>\n",
       "      <th>id</th>\n",
       "      <th>lat</th>\n",
       "      <th>lon</th>\n",
       "      <th>tags</th>\n",
       "      <th>bounds</th>\n",
       "      <th>nodes</th>\n",
       "      <th>geometry</th>\n",
       "      <th>members</th>\n",
       "    </tr>\n",
       "  </thead>\n",
       "  <tbody>\n",
       "    <tr>\n",
       "      <th>0</th>\n",
       "      <td>node</td>\n",
       "      <td>100948360</td>\n",
       "      <td>-12.776235</td>\n",
       "      <td>45.233917</td>\n",
       "      <td>{'leisure': 'slipway'}</td>\n",
       "      <td>NaN</td>\n",
       "      <td>NaN</td>\n",
       "      <td>POINT (5035416.618 -1434179.077)</td>\n",
       "      <td>NaN</td>\n",
       "    </tr>\n",
       "    <tr>\n",
       "      <th>1</th>\n",
       "      <td>node</td>\n",
       "      <td>364411600</td>\n",
       "      <td>-12.778358</td>\n",
       "      <td>45.232845</td>\n",
       "      <td>{'amenity': 'ferry_terminal', 'ferry': 'yes', ...</td>\n",
       "      <td>NaN</td>\n",
       "      <td>NaN</td>\n",
       "      <td>POINT (5035297.261 -1434421.489)</td>\n",
       "      <td>NaN</td>\n",
       "    </tr>\n",
       "    <tr>\n",
       "      <th>2</th>\n",
       "      <td>node</td>\n",
       "      <td>364411621</td>\n",
       "      <td>-12.781689</td>\n",
       "      <td>45.257971</td>\n",
       "      <td>{'leisure': 'slipway', 'name': 'Mamoudzou Ferry'}</td>\n",
       "      <td>NaN</td>\n",
       "      <td>NaN</td>\n",
       "      <td>POINT (5038094.331 -1434801.702)</td>\n",
       "      <td>NaN</td>\n",
       "    </tr>\n",
       "  </tbody>\n",
       "</table>\n",
       "</div>"
      ],
      "text/plain": [
       "   type         id        lat        lon  \\\n",
       "0  node  100948360 -12.776235  45.233917   \n",
       "1  node  364411600 -12.778358  45.232845   \n",
       "2  node  364411621 -12.781689  45.257971   \n",
       "\n",
       "                                                tags bounds nodes  \\\n",
       "0                             {'leisure': 'slipway'}    NaN   NaN   \n",
       "1  {'amenity': 'ferry_terminal', 'ferry': 'yes', ...    NaN   NaN   \n",
       "2  {'leisure': 'slipway', 'name': 'Mamoudzou Ferry'}    NaN   NaN   \n",
       "\n",
       "                           geometry members  \n",
       "0  POINT (5035416.618 -1434179.077)     NaN  \n",
       "1  POINT (5035297.261 -1434421.489)     NaN  \n",
       "2  POINT (5038094.331 -1434801.702)     NaN  "
      ]
     },
     "execution_count": 22,
     "metadata": {},
     "output_type": "execute_result"
    }
   ],
   "source": [
    "# Process only type == node\n",
    "gdf_node = gdf[gdf[\"type\"]==\"node\"]\n",
    "gdf_node.head(3)"
   ]
  },
  {
   "cell_type": "code",
   "execution_count": null,
   "metadata": {},
   "outputs": [],
   "source": [
    "# Sample 1 location and output POI around + distance\n",
    "import requests\n",
    "import json\n",
    "lat, lon = -12.844411, 45.188579\n",
    "r = requests.get(f\"http://router.project-osrm.org/route/v1/car/{lon_1},{lat};{lon_2},{lat_2}?overview=false\"\"\")"
   ]
  },
  {
   "cell_type": "markdown",
   "metadata": {},
   "source": []
  }
 ],
 "metadata": {
  "interpreter": {
   "hash": "7513a80b126379a565be28ed14166cde1691e008c8cb38159ac44043ddfed54e"
  },
  "kernelspec": {
   "display_name": "Python 3.8.10 64-bit ('venv': venv)",
   "language": "python",
   "name": "python3"
  },
  "language_info": {
   "codemirror_mode": {
    "name": "ipython",
    "version": 3
   },
   "file_extension": ".py",
   "mimetype": "text/x-python",
   "name": "python",
   "nbconvert_exporter": "python",
   "pygments_lexer": "ipython3",
   "version": "3.8.10"
  },
  "orig_nbformat": 4
 },
 "nbformat": 4,
 "nbformat_minor": 2
}
